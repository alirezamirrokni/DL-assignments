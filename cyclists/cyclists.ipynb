{
  "cells": [
    {
      "cell_type": "markdown",
      "metadata": {
        "id": "u-gqak6jnLi2"
      },
      "source": [
        "<h1 align=center style=\"line-height:200%;font-family:vazir;color:#0099cc\">\n",
        "<font face=\"vazir\" color=\"#0099cc\">\n",
        "دوچرخه‌سواران\n",
        "</font>\n",
        "</h1>\n",
        "<p dir=rtl style=\"direction: rtl;text-align: justify;line-height:200%;font-family:vazir;font-size:medium\">\n",
        "<font face=\"vazir\" size=3>\n",
        "دوچرخه‌سواران (🚴) خیلی روی دما حساس هستند. دمایی که دوچرخه‌سواران احساس می‌کنند معمولاً با سرعت باد و رطوبت هوا رابطه‌ی مستقیم دارد. \n",
        "در این تمرین مجموعه‌داده‌ای مرتبط با این موضوع در اختیارمان قرار گرفته و قصد داریم به تحلیل اکتشافی آن بپردازیم.\n",
        "</font>\n",
        "</p>\n"
      ]
    },
    {
      "cell_type": "markdown",
      "metadata": {
        "id": "4ble8cLWnLi4"
      },
      "source": [
        "<h2 align=right style=\"line-height:200%;font-family:vazir;color:#0099cc\">\n",
        "<font face=\"vazir\" color=\"#0099cc\">\n",
        "مجموعه‌داده\n",
        "</font>\n",
        "</h2>\n",
        "\n",
        "<p dir=rtl style=\"direction: rtl;text-align: justify;line-height:200%;font-family:vazir;font-size:medium\">\n",
        "<font face=\"vazir\" size=3>\n",
        "در فایل <code>bikes_borrowed.csv</code>، اطلاعات مربوط به دوچرخه‌های اجاره داده‌شده در یک شهر و اطلاعات مربوط به شرایط هوا در آن روز ذخیره شده است. ستون‌های این مجموعه‌داده در جدول زیر شرح داده شده است.\n",
        "با استفاده از روش‌هایی که در درسنامه یاد گرفته‌اید، به‌کمک کتابخانه‌ی <code>pandas</code> این مجموعه‌داده را از فایل بارگیری کرده و در دیتافریم <code>df</code> ذخیره کنید.\n",
        "</font>\n",
        "</p>\n",
        "\n",
        "\n",
        "<center>\n",
        "<div dir=rtl style=\"direction: rtl;line-height:200%;font-family:vazir;font-size:medium\">\n",
        "<font face=\"vazir\" size=3>\n",
        "\n",
        "| <b>شماره گروه</b> | <b>توضیحات</b> |\n",
        "| :---: | :---: |\n",
        "| <code>cnt</code> | تعداد دوچرخه‌های اجاره‌داده‌شده در روز |\n",
        "| <code>t1</code> | دمای واقعی اندازه‌گیری‌شده در آن روز |\n",
        "| <code>t2</code> | میانگین دمایی که دوچرخه‌سواران احساس کرده‌اند |\n",
        "| <code>humidity</code> | رطوبت هوا در آن روز |\n",
        "| <code>wind_speed</code> | سرعت باد در آن روز |\n",
        "|‌ <code>is_weekend</code> | آیا آن روز،‌ روز غیرکاری (آخر هفته) هست یا خیر |\n",
        "| <code>season</code> | چندمین فصل سال |\n",
        "| <code>cloud</code> | آیا هوا در آن روز ابری هست یا خیر  |\n",
        "\n",
        "</font>\n",
        "</div>\n",
        "</center>"
      ]
    },
    {
      "cell_type": "code",
      "execution_count": 1,
      "metadata": {
        "id": "wch4VtDsnLi5"
      },
      "outputs": [
        {
          "data": {
            "text/html": [
              "<div>\n",
              "<style scoped>\n",
              "    .dataframe tbody tr th:only-of-type {\n",
              "        vertical-align: middle;\n",
              "    }\n",
              "\n",
              "    .dataframe tbody tr th {\n",
              "        vertical-align: top;\n",
              "    }\n",
              "\n",
              "    .dataframe thead th {\n",
              "        text-align: right;\n",
              "    }\n",
              "</style>\n",
              "<table border=\"1\" class=\"dataframe\">\n",
              "  <thead>\n",
              "    <tr style=\"text-align: right;\">\n",
              "      <th></th>\n",
              "      <th>cnt</th>\n",
              "      <th>t1</th>\n",
              "      <th>t2</th>\n",
              "      <th>humidity</th>\n",
              "      <th>wind_speed</th>\n",
              "      <th>is_weekend</th>\n",
              "      <th>season</th>\n",
              "      <th>cloud</th>\n",
              "    </tr>\n",
              "  </thead>\n",
              "  <tbody>\n",
              "    <tr>\n",
              "      <th>0</th>\n",
              "      <td>182</td>\n",
              "      <td>3.0</td>\n",
              "      <td>2.0</td>\n",
              "      <td>93.0</td>\n",
              "      <td>6.0</td>\n",
              "      <td>1</td>\n",
              "      <td>3</td>\n",
              "      <td>0.0</td>\n",
              "    </tr>\n",
              "    <tr>\n",
              "      <th>1</th>\n",
              "      <td>138</td>\n",
              "      <td>3.0</td>\n",
              "      <td>2.5</td>\n",
              "      <td>93.0</td>\n",
              "      <td>5.0</td>\n",
              "      <td>1</td>\n",
              "      <td>3</td>\n",
              "      <td>NaN</td>\n",
              "    </tr>\n",
              "    <tr>\n",
              "      <th>2</th>\n",
              "      <td>134</td>\n",
              "      <td>2.5</td>\n",
              "      <td>2.5</td>\n",
              "      <td>96.5</td>\n",
              "      <td>0.0</td>\n",
              "      <td>1</td>\n",
              "      <td>3</td>\n",
              "      <td>NaN</td>\n",
              "    </tr>\n",
              "    <tr>\n",
              "      <th>3</th>\n",
              "      <td>72</td>\n",
              "      <td>2.0</td>\n",
              "      <td>2.0</td>\n",
              "      <td>100.0</td>\n",
              "      <td>0.0</td>\n",
              "      <td>1</td>\n",
              "      <td>3</td>\n",
              "      <td>1.0</td>\n",
              "    </tr>\n",
              "    <tr>\n",
              "      <th>4</th>\n",
              "      <td>47</td>\n",
              "      <td>2.0</td>\n",
              "      <td>0.0</td>\n",
              "      <td>93.0</td>\n",
              "      <td>6.5</td>\n",
              "      <td>1</td>\n",
              "      <td>3</td>\n",
              "      <td>NaN</td>\n",
              "    </tr>\n",
              "  </tbody>\n",
              "</table>\n",
              "</div>"
            ],
            "text/plain": [
              "   cnt   t1   t2  humidity  wind_speed  is_weekend  season  cloud\n",
              "0  182  3.0  2.0      93.0         6.0           1       3    0.0\n",
              "1  138  3.0  2.5      93.0         5.0           1       3    NaN\n",
              "2  134  2.5  2.5      96.5         0.0           1       3    NaN\n",
              "3   72  2.0  2.0     100.0         0.0           1       3    1.0\n",
              "4   47  2.0  0.0      93.0         6.5           1       3    NaN"
            ]
          },
          "execution_count": 1,
          "metadata": {},
          "output_type": "execute_result"
        }
      ],
      "source": [
        "import pandas as pd\n",
        "import numpy as np\n",
        "from numpy import nan as NA\n",
        "\n",
        "df = pd.read_csv(\"bikes_borrowed.csv\") # TODO\n",
        "df.head()"
      ]
    },
    {
      "cell_type": "markdown",
      "metadata": {
        "id": "lzANLP6QnLi6"
      },
      "source": [
        "<p dir=rtl style=\"direction: rtl;text-align: justify;line-height:200%;font-family:vazir;font-size:medium\">\n",
        "<font face=\"vazir\" size=3>\n",
        "همان‌طور که گفتیم، تابع\n",
        "<code>head</code>\n",
        "به‌طور پیش‌فرض، ۵ ردیف نخست دیتافریم را به ما نشان می‌دهد.\n",
        "</font>\n",
        "</p>"
      ]
    },
    {
      "cell_type": "markdown",
      "metadata": {
        "id": "QGuk2blfuZva"
      },
      "source": [
        "<h2 align=right style=\"line-height:200%;font-family:vazir;color:#0099cc\">\n",
        "<font face=\"vazir\" color=\"#0099cc\">\n",
        "مقادیر گم‌شده\n",
        "</font>\n",
        "</h2>\n",
        "\n",
        "\n",
        "<p dir=rtl style=\"direction: rtl;text-align: justify;line-height:200%;font-family:vazir;font-size:medium\">\n",
        "<font face=\"vazir\" size=3>\n",
        "همان‌طور که از ردیف‌های نخست دیتافریم مشخص است، این مجموعه‌داده شامل تعدادی مقادیر گم‌شده است. در این بخش سعی می‌کنیم به روش‌های مختلفی، این مقادیر گم‌شده را مدیریت کنیم.\n",
        "<br>\n",
        "ابتدا برسی کنید که چند درصد از مقادیر هر ستون گم‌شده است. اگر تعداد زیادی از مقادیر یک ستون گم‌شده باشند احتمالاً آن ستون اطلاعات زیادی برای‌مان فراهم نمی‌کند، بنابراین می‌توانیم آن را ‌به‌طور کلی حذف کنیم.\n",
        "</font>\n",
        "</p>\n"
      ]
    },
    {
      "cell_type": "code",
      "execution_count": 4,
      "metadata": {
        "id": "YsLFjunFu5mC"
      },
      "outputs": [
        {
          "name": "stdout",
          "output_type": "stream",
          "text": [
            "cnt           0.000000\n",
            "t1            0.000287\n",
            "t2            0.000287\n",
            "humidity      0.098771\n",
            "wind_speed    0.000287\n",
            "is_weekend    0.000000\n",
            "season        0.000000\n",
            "cloud         0.948949\n",
            "dtype: float64\n"
          ]
        }
      ],
      "source": [
        "missing_percentages = df.isnull().mean() # TODO\n",
        "print(missing_percentages)"
      ]
    },
    {
      "cell_type": "markdown",
      "metadata": {
        "id": "49aps_hczBGu"
      },
      "source": [
        "<p dir=rtl style=\"direction: rtl;text-align: justify;line-height:200%;font-family:vazir;font-size:medium\">\n",
        "<font face=\"vazir\" size=3>\n",
        "حال آن ستونی را که تعداد مقادیر گم‌شده‌اش بسیار زیاد است\n",
        "(بیش از ۹۰ درصد)\n",
        "را حذف کنید.\n",
        "</font>\n",
        "</p>"
      ]
    },
    {
      "cell_type": "markdown",
      "metadata": {},
      "source": [
        "<details dir=\"rtl\" style=\"direction: rtl;text-align: justify;line-height:200%;font-family:vazir;font-size:medium\">\n",
        "<summary dir=\"rtl\" style=\"color:orange\"><b>راهنمایی: نحوه‌ی حذف یک ستون</b></summary>\n",
        "\n",
        "برای این کار می‌توانید همچون کد زیر از دستور\n",
        "<code>drop</code>\n",
        "استفاده کنید.\n",
        "\n",
        "<span dir=ltr style=\"direction:ltr;\">\n",
        "\n",
        "`df.drop(columns = list_of_column_names, inplace = True)`\n",
        "\n",
        "</span>\n",
        "</details>"
      ]
    },
    {
      "cell_type": "code",
      "execution_count": 5,
      "metadata": {
        "id": "kbZsk2s5zjzO"
      },
      "outputs": [
        {
          "data": {
            "text/html": [
              "<div>\n",
              "<style scoped>\n",
              "    .dataframe tbody tr th:only-of-type {\n",
              "        vertical-align: middle;\n",
              "    }\n",
              "\n",
              "    .dataframe tbody tr th {\n",
              "        vertical-align: top;\n",
              "    }\n",
              "\n",
              "    .dataframe thead th {\n",
              "        text-align: right;\n",
              "    }\n",
              "</style>\n",
              "<table border=\"1\" class=\"dataframe\">\n",
              "  <thead>\n",
              "    <tr style=\"text-align: right;\">\n",
              "      <th></th>\n",
              "      <th>cnt</th>\n",
              "      <th>t1</th>\n",
              "      <th>t2</th>\n",
              "      <th>humidity</th>\n",
              "      <th>wind_speed</th>\n",
              "      <th>is_weekend</th>\n",
              "      <th>season</th>\n",
              "    </tr>\n",
              "  </thead>\n",
              "  <tbody>\n",
              "    <tr>\n",
              "      <th>0</th>\n",
              "      <td>182</td>\n",
              "      <td>3.0</td>\n",
              "      <td>2.0</td>\n",
              "      <td>93.0</td>\n",
              "      <td>6.0</td>\n",
              "      <td>1</td>\n",
              "      <td>3</td>\n",
              "    </tr>\n",
              "    <tr>\n",
              "      <th>1</th>\n",
              "      <td>138</td>\n",
              "      <td>3.0</td>\n",
              "      <td>2.5</td>\n",
              "      <td>93.0</td>\n",
              "      <td>5.0</td>\n",
              "      <td>1</td>\n",
              "      <td>3</td>\n",
              "    </tr>\n",
              "    <tr>\n",
              "      <th>2</th>\n",
              "      <td>134</td>\n",
              "      <td>2.5</td>\n",
              "      <td>2.5</td>\n",
              "      <td>96.5</td>\n",
              "      <td>0.0</td>\n",
              "      <td>1</td>\n",
              "      <td>3</td>\n",
              "    </tr>\n",
              "    <tr>\n",
              "      <th>3</th>\n",
              "      <td>72</td>\n",
              "      <td>2.0</td>\n",
              "      <td>2.0</td>\n",
              "      <td>100.0</td>\n",
              "      <td>0.0</td>\n",
              "      <td>1</td>\n",
              "      <td>3</td>\n",
              "    </tr>\n",
              "    <tr>\n",
              "      <th>4</th>\n",
              "      <td>47</td>\n",
              "      <td>2.0</td>\n",
              "      <td>0.0</td>\n",
              "      <td>93.0</td>\n",
              "      <td>6.5</td>\n",
              "      <td>1</td>\n",
              "      <td>3</td>\n",
              "    </tr>\n",
              "  </tbody>\n",
              "</table>\n",
              "</div>"
            ],
            "text/plain": [
              "   cnt   t1   t2  humidity  wind_speed  is_weekend  season\n",
              "0  182  3.0  2.0      93.0         6.0           1       3\n",
              "1  138  3.0  2.5      93.0         5.0           1       3\n",
              "2  134  2.5  2.5      96.5         0.0           1       3\n",
              "3   72  2.0  2.0     100.0         0.0           1       3\n",
              "4   47  2.0  0.0      93.0         6.5           1       3"
            ]
          },
          "execution_count": 5,
          "metadata": {},
          "output_type": "execute_result"
        }
      ],
      "source": [
        "# TODO\n",
        "df.drop(columns=['cloud'], inplace=True)\n",
        "df.head()"
      ]
    },
    {
      "cell_type": "markdown",
      "metadata": {
        "id": "7bqtBFddnLi6"
      },
      "source": [
        "<p dir=rtl style=\"direction: rtl;text-align: justify;line-height:200%;font-family:vazir;font-size:medium\">\n",
        "<font face=\"vazir\" size=3>\n",
        "    به پارامتر <code>inplace = True</code> دقت کنید؛ وجود این پارامتر باعث می‌شود که تابع <code>drop</code>، به‌جای آن‌که یک کپی از دیتافریم تهیه کرده و بعد از اعمال تغییرات آن کپی را خروجی دهد، تغییرات را مستقیماً روی دیتافریم اصلی اعمال کند.\n",
        "برای درک بهتر این موضوع می‌توانید یک‌بار این پارامتر را حذف کرده و سپس مجدد <code dir=ltr>df.head()</code> را خروجی بگیرید و بررسی کنید که آیا نام ستون‌ها تغییر کرده است یا خیر؟\n",
        "</font>\n",
        "</p>\n"
      ]
    },
    {
      "cell_type": "markdown",
      "metadata": {
        "id": "sENXtyA80-Z-"
      },
      "source": [
        "<p dir=rtl style=\"direction: rtl;text-align: justify;line-height:200%;font-family:vazir;font-size:medium\">\n",
        "<font face=\"vazir\" size=3>\n",
        "حال با توجه به محاسبه‌ی درصد مقادیر گم‌شده در هر ستون می‌دانیم که ستون\n",
        "<code>humidity</code>\n",
        "هم تعداد قابل توجهی مقادیر گم‌شده دارد. برای حل این مشکل می‌خواهیم این مقادیر را با مقدار میانگین\n",
        "<code>humidity</code>\n",
        "جایگزین کنیم.\n",
        "<br>\n",
        "</font>\n",
        "</p>"
      ]
    },
    {
      "cell_type": "markdown",
      "metadata": {},
      "source": [
        "<details dir=\"rtl\" style=\"direction: rtl;text-align: justify;line-height:200%;font-family:vazir;font-size:medium\">\n",
        "<summary dir=\"rtl\" style=\"color:orange\"><b>راهنمایی: نحوه‌ی میانگین‌گیری و پر کردن مقادیر گم‌شده</b></summary>\n",
        "\n",
        "برای انجام این کار به کد زیر توجه کنید:\n",
        "\n",
        "<span dir=ltr style=\"direction:ltr;\">\n",
        "\n",
        "`mean = df['column_name'].mean()`\n",
        "<br>\n",
        "\n",
        "`df['column_name'].fillna(mean.astype('int64'), inplace = True)`\n",
        "\n",
        "</span>\n",
        "</details>"
      ]
    },
    {
      "cell_type": "code",
      "execution_count": 6,
      "metadata": {
        "id": "-PiuTOaY0-x1"
      },
      "outputs": [],
      "source": [
        "mean = df['humidity'].mean() # TODO\n",
        "# TODO\n",
        "df['humidity'].fillna(mean.astype('int64'), inplace=True)"
      ]
    },
    {
      "cell_type": "markdown",
      "metadata": {
        "id": "T6OwONXC2n0q"
      },
      "source": [
        "<p dir=rtl style=\"direction: rtl;text-align: justify;line-height:200%;font-family:vazir;font-size:medium\">\n",
        "<font face=\"vazir\" size=3>\n",
        "در انتها با توجه به این موضوع که باقی ستون‌ها تعداد بسیار اندکی مقادیر گم‌شده دارند، تمامی نمونه‌ها/ردیف‌هایی را که همچنان مقدار گم‌شده دارند حذف می‌کنیم.\n",
        "</font>\n",
        "</p>"
      ]
    },
    {
      "cell_type": "markdown",
      "metadata": {},
      "source": [
        "<details dir=\"rtl\" style=\"direction: rtl;text-align: justify;line-height:200%;font-family:vazir;font-size:medium\">\n",
        "<summary dir=\"rtl\" style=\"color:orange\"><b>راهنمایی: نحوه‌ی حذف مقادیر گم‌شده</b></summary>\n",
        "\n",
        "برای انجام این کار به کد زیر توجه کنید:\n",
        "\n",
        "<span dir=ltr style=\"direction:ltr;\">\n",
        "\n",
        "`df.dropna(inplace = True)`\n",
        "\n",
        "</span>\n",
        "</details>"
      ]
    },
    {
      "cell_type": "code",
      "execution_count": 7,
      "metadata": {
        "id": "aiRgupnp3IDh"
      },
      "outputs": [],
      "source": [
        "# TODO\n",
        "df.dropna(inplace=True)"
      ]
    },
    {
      "cell_type": "markdown",
      "metadata": {
        "id": "oDDqkYmj33Lx"
      },
      "source": [
        "<p dir=rtl style=\"direction: rtl;text-align: justify;line-height:200%;font-family:vazir;font-size:medium\">\n",
        "<font face=\"vazir\" size=3>\n",
        "    همان‌طور که می‌بینید نام ستون‌های <code>t1</code> و <code>t2</code> خیلی کلی است و بیانگر معنای مقدار آن‌ها نیست، به همین دلیل خوب است تا نام آن‌ها را تغییر دهیم.\n",
        "<br>\n",
        "    در سلول زیر، نام ستون <code>t1</code> را به <code>t_real</code> و نام ستون <code>t2</code> را به <code>t_feels_like</code> تغییر دهید.\n",
        "</font>\n",
        "</p>\n",
        "\n"
      ]
    },
    {
      "cell_type": "markdown",
      "metadata": {},
      "source": [
        "<details dir=\"rtl\" style=\"direction: rtl;text-align: justify;line-height:200%;font-family:vazir;font-size:medium\">\n",
        "<summary dir=\"rtl\" style=\"color:orange\"><b>راهنمایی: نحوه‌ی تغییر نام نمایه‌ها یا ستون‌ها</b></summary>\n",
        "\n",
        "برای تغییر نام نمایه‌ها یا ستون‌ها می‌توانیم از تابع <code>rename</code> استفاده کنیم:\n",
        "\n",
        "<span dir=ltr style=\"direction:ltr;\">\n",
        "\n",
        "`df.rename(columns={\"col1\": \"new_col1\", \"col2\": \"new_col2\"} , inplace = True)`\n",
        "\n",
        "</span>\n",
        "</details>"
      ]
    },
    {
      "cell_type": "code",
      "execution_count": 9,
      "metadata": {
        "id": "j78mnKV_33h6"
      },
      "outputs": [
        {
          "data": {
            "text/html": [
              "<div>\n",
              "<style scoped>\n",
              "    .dataframe tbody tr th:only-of-type {\n",
              "        vertical-align: middle;\n",
              "    }\n",
              "\n",
              "    .dataframe tbody tr th {\n",
              "        vertical-align: top;\n",
              "    }\n",
              "\n",
              "    .dataframe thead th {\n",
              "        text-align: right;\n",
              "    }\n",
              "</style>\n",
              "<table border=\"1\" class=\"dataframe\">\n",
              "  <thead>\n",
              "    <tr style=\"text-align: right;\">\n",
              "      <th></th>\n",
              "      <th>cnt</th>\n",
              "      <th>t_real</th>\n",
              "      <th>t_feels_like</th>\n",
              "      <th>humidity</th>\n",
              "      <th>wind_speed</th>\n",
              "      <th>is_weekend</th>\n",
              "      <th>season</th>\n",
              "    </tr>\n",
              "  </thead>\n",
              "  <tbody>\n",
              "    <tr>\n",
              "      <th>0</th>\n",
              "      <td>182</td>\n",
              "      <td>3.0</td>\n",
              "      <td>2.0</td>\n",
              "      <td>93.0</td>\n",
              "      <td>6.0</td>\n",
              "      <td>1</td>\n",
              "      <td>3</td>\n",
              "    </tr>\n",
              "    <tr>\n",
              "      <th>1</th>\n",
              "      <td>138</td>\n",
              "      <td>3.0</td>\n",
              "      <td>2.5</td>\n",
              "      <td>93.0</td>\n",
              "      <td>5.0</td>\n",
              "      <td>1</td>\n",
              "      <td>3</td>\n",
              "    </tr>\n",
              "    <tr>\n",
              "      <th>2</th>\n",
              "      <td>134</td>\n",
              "      <td>2.5</td>\n",
              "      <td>2.5</td>\n",
              "      <td>96.5</td>\n",
              "      <td>0.0</td>\n",
              "      <td>1</td>\n",
              "      <td>3</td>\n",
              "    </tr>\n",
              "    <tr>\n",
              "      <th>3</th>\n",
              "      <td>72</td>\n",
              "      <td>2.0</td>\n",
              "      <td>2.0</td>\n",
              "      <td>100.0</td>\n",
              "      <td>0.0</td>\n",
              "      <td>1</td>\n",
              "      <td>3</td>\n",
              "    </tr>\n",
              "    <tr>\n",
              "      <th>4</th>\n",
              "      <td>47</td>\n",
              "      <td>2.0</td>\n",
              "      <td>0.0</td>\n",
              "      <td>93.0</td>\n",
              "      <td>6.5</td>\n",
              "      <td>1</td>\n",
              "      <td>3</td>\n",
              "    </tr>\n",
              "  </tbody>\n",
              "</table>\n",
              "</div>"
            ],
            "text/plain": [
              "   cnt  t_real  t_feels_like  humidity  wind_speed  is_weekend  season\n",
              "0  182     3.0           2.0      93.0         6.0           1       3\n",
              "1  138     3.0           2.5      93.0         5.0           1       3\n",
              "2  134     2.5           2.5      96.5         0.0           1       3\n",
              "3   72     2.0           2.0     100.0         0.0           1       3\n",
              "4   47     2.0           0.0      93.0         6.5           1       3"
            ]
          },
          "execution_count": 9,
          "metadata": {},
          "output_type": "execute_result"
        }
      ],
      "source": [
        "# TODO\n",
        "df.rename(columns={'t1' : 't_real', 't2' : 't_feels_like'}, inplace=True)\n",
        "df.head()"
      ]
    },
    {
      "cell_type": "markdown",
      "metadata": {
        "id": "XF5PPdsVnLi7"
      },
      "source": [
        "<h2 align=right style=\"line-height:200%;font-family:vazir;color:#0099cc\">\n",
        "<font face=\"vazir\" color=\"#0099cc\">\n",
        "اکتشاف در داده   </font>\n",
        "</h2>\n",
        "\n",
        "<p dir=rtl style=\"direction: rtl;text-align: justify;line-height:200%;font-family:vazir;font-size:medium\">\n",
        "<font face=\"vazir\" size=3>\n",
        "برای برسی داده ابتدا از\n",
        "<code>\n",
        "describe\n",
        "</code>\n",
        "استفاده می‌کنیم تا کلیتی از داده را متوجه شویم.\n",
        "</font>\n",
        "</p>"
      ]
    },
    {
      "cell_type": "code",
      "execution_count": 10,
      "metadata": {
        "id": "APOQLdAh7BT3"
      },
      "outputs": [
        {
          "data": {
            "text/html": [
              "<div>\n",
              "<style scoped>\n",
              "    .dataframe tbody tr th:only-of-type {\n",
              "        vertical-align: middle;\n",
              "    }\n",
              "\n",
              "    .dataframe tbody tr th {\n",
              "        vertical-align: top;\n",
              "    }\n",
              "\n",
              "    .dataframe thead th {\n",
              "        text-align: right;\n",
              "    }\n",
              "</style>\n",
              "<table border=\"1\" class=\"dataframe\">\n",
              "  <thead>\n",
              "    <tr style=\"text-align: right;\">\n",
              "      <th></th>\n",
              "      <th>cnt</th>\n",
              "      <th>t_real</th>\n",
              "      <th>t_feels_like</th>\n",
              "      <th>humidity</th>\n",
              "      <th>wind_speed</th>\n",
              "      <th>is_weekend</th>\n",
              "      <th>season</th>\n",
              "    </tr>\n",
              "  </thead>\n",
              "  <tbody>\n",
              "    <tr>\n",
              "      <th>count</th>\n",
              "      <td>17409.000000</td>\n",
              "      <td>17409.000000</td>\n",
              "      <td>17409.000000</td>\n",
              "      <td>17409.000000</td>\n",
              "      <td>17409.000000</td>\n",
              "      <td>17409.000000</td>\n",
              "      <td>17409.000000</td>\n",
              "    </tr>\n",
              "    <tr>\n",
              "      <th>mean</th>\n",
              "      <td>1143.131311</td>\n",
              "      <td>12.469633</td>\n",
              "      <td>11.522622</td>\n",
              "      <td>72.279755</td>\n",
              "      <td>15.914560</td>\n",
              "      <td>0.285485</td>\n",
              "      <td>1.491872</td>\n",
              "    </tr>\n",
              "    <tr>\n",
              "      <th>std</th>\n",
              "      <td>1084.840175</td>\n",
              "      <td>5.570946</td>\n",
              "      <td>6.614235</td>\n",
              "      <td>13.598632</td>\n",
              "      <td>7.895017</td>\n",
              "      <td>0.451658</td>\n",
              "      <td>1.118833</td>\n",
              "    </tr>\n",
              "    <tr>\n",
              "      <th>min</th>\n",
              "      <td>0.000000</td>\n",
              "      <td>-1.500000</td>\n",
              "      <td>-6.000000</td>\n",
              "      <td>20.500000</td>\n",
              "      <td>0.000000</td>\n",
              "      <td>0.000000</td>\n",
              "      <td>0.000000</td>\n",
              "    </tr>\n",
              "    <tr>\n",
              "      <th>25%</th>\n",
              "      <td>257.000000</td>\n",
              "      <td>8.000000</td>\n",
              "      <td>6.000000</td>\n",
              "      <td>64.500000</td>\n",
              "      <td>10.000000</td>\n",
              "      <td>0.000000</td>\n",
              "      <td>0.000000</td>\n",
              "    </tr>\n",
              "    <tr>\n",
              "      <th>50%</th>\n",
              "      <td>844.000000</td>\n",
              "      <td>12.500000</td>\n",
              "      <td>12.500000</td>\n",
              "      <td>72.000000</td>\n",
              "      <td>15.000000</td>\n",
              "      <td>0.000000</td>\n",
              "      <td>1.000000</td>\n",
              "    </tr>\n",
              "    <tr>\n",
              "      <th>75%</th>\n",
              "      <td>1672.000000</td>\n",
              "      <td>16.000000</td>\n",
              "      <td>16.000000</td>\n",
              "      <td>82.000000</td>\n",
              "      <td>20.500000</td>\n",
              "      <td>1.000000</td>\n",
              "      <td>2.000000</td>\n",
              "    </tr>\n",
              "    <tr>\n",
              "      <th>max</th>\n",
              "      <td>7860.000000</td>\n",
              "      <td>34.000000</td>\n",
              "      <td>34.000000</td>\n",
              "      <td>100.000000</td>\n",
              "      <td>56.500000</td>\n",
              "      <td>1.000000</td>\n",
              "      <td>3.000000</td>\n",
              "    </tr>\n",
              "  </tbody>\n",
              "</table>\n",
              "</div>"
            ],
            "text/plain": [
              "                cnt        t_real  t_feels_like      humidity    wind_speed  \\\n",
              "count  17409.000000  17409.000000  17409.000000  17409.000000  17409.000000   \n",
              "mean    1143.131311     12.469633     11.522622     72.279755     15.914560   \n",
              "std     1084.840175      5.570946      6.614235     13.598632      7.895017   \n",
              "min        0.000000     -1.500000     -6.000000     20.500000      0.000000   \n",
              "25%      257.000000      8.000000      6.000000     64.500000     10.000000   \n",
              "50%      844.000000     12.500000     12.500000     72.000000     15.000000   \n",
              "75%     1672.000000     16.000000     16.000000     82.000000     20.500000   \n",
              "max     7860.000000     34.000000     34.000000    100.000000     56.500000   \n",
              "\n",
              "         is_weekend        season  \n",
              "count  17409.000000  17409.000000  \n",
              "mean       0.285485      1.491872  \n",
              "std        0.451658      1.118833  \n",
              "min        0.000000      0.000000  \n",
              "25%        0.000000      0.000000  \n",
              "50%        0.000000      1.000000  \n",
              "75%        1.000000      2.000000  \n",
              "max        1.000000      3.000000  "
            ]
          },
          "execution_count": 10,
          "metadata": {},
          "output_type": "execute_result"
        }
      ],
      "source": [
        "df.describe()"
      ]
    },
    {
      "cell_type": "markdown",
      "metadata": {
        "id": "xrjvmedP9akA"
      },
      "source": [
        "<p dir=rtl style=\"direction: rtl;text-align: justify;line-height:200%;font-family:vazir;font-size:medium\">\n",
        "<font face=\"vazir\" size=3>\n",
        "حال با استفاده از\n",
        "<code> plt.scatter </code>\n",
        "برسی میکنیم که ارتباط بین\n",
        "<code>t_real</code>\n",
        "و\n",
        "<code>t_feels_like</code>\n",
        "چگونه است.\n",
        "</font>\n",
        "</p>"
      ]
    },
    {
      "cell_type": "code",
      "execution_count": 12,
      "metadata": {
        "id": "bCahOZje8Rlf"
      },
      "outputs": [
        {
          "data": {
            "image/png": "[encoded data removed]",
            "text/plain": [
              "<Figure size 640x480 with 1 Axes>"
            ]
          },
          "metadata": {},
          "output_type": "display_data"
        }
      ],
      "source": [
        "from matplotlib  import pyplot as plt\n",
        "\n",
        "plt.scatter(x=df['t_real'], y=df['t_feels_like']) # TODO\n",
        "plt.show()"
      ]
    },
    {
      "cell_type": "markdown",
      "metadata": {
        "id": "wHvHG0E79teR"
      },
      "source": [
        "<p dir=rtl style=\"direction: rtl;text-align: justify;line-height:200%;font-family:vazir;font-size:medium\">\n",
        "<font face=\"vazir\" size=3>\n",
        "همان‌طور که مشحص است و انتظارش را هم داشتیم، این دو مقدار در اکثر روزها بسیار به هم نزدیک هستند.\n",
        "<br>\n",
        "در مرحله‌ی بعد می‌خواهیم بدانیم ارتباط تعداد اجاره‌ی دوچرخه‌ها با دمای هوا چیست.\n",
        "برای این کار ابتدا نمونه‌ها را بر اساس\n",
        "<code>\n",
        "t_feels_like\n",
        "</code>\n",
        "گروه‌بندی کرده (دستور <code>groupby</code>) و میانگین تعداد اجاره‌ی دوچرخه در هر گروه را محاسبه کنید.\n",
        "</font>\n",
        "</p>"
      ]
    },
    {
      "cell_type": "code",
      "execution_count": 23,
      "metadata": {
        "id": "rkznpYNw8cPF"
      },
      "outputs": [
        {
          "data": {
            "image/png": "[encoded data removed]",
            "text/plain": [
              "<Figure size 640x480 with 1 Axes>"
            ]
          },
          "metadata": {},
          "output_type": "display_data"
        }
      ],
      "source": [
        "grouped =  df.groupby('t_feels_like')['cnt'].mean() # TODO\n",
        "\n",
        "plt.plot(grouped)\n",
        "plt.show()"
      ]
    },
    {
      "cell_type": "markdown",
      "metadata": {
        "id": "FQS89JHoAp9f"
      },
      "source": [
        "<p dir=rtl style=\"direction: rtl;text-align: justify;line-height:200%;font-family:vazir;font-size:medium\">\n",
        "<font face=\"vazir\" size=3>\n",
        "🤔 اکنون می‌توانید به تحلیل نمودار تولیدشده بپردازید. به نظر شما چه نتیجه‌ای می‌توان از این نمودار گرفت؟ در چه روزهایی دوچرخه‌های بیشتری اجاره داده می‌شود؟ در صورت علاقه می‌توانید نظرات خود را به‌شکل دیدگاه عمومی در صفحه‌ی تمرین بنویسید.\n",
        "</font>\n",
        "</p>"
      ]
    },
    {
      "cell_type": "markdown",
      "metadata": {
        "id": "vTy8Q2aJKQio"
      },
      "source": [
        "<h2 align=right style=\"line-height:200%;font-family:vazir;color:#0099cc\">\n",
        "<font face=\"vazir\" color=\"#0099cc\">\n",
        "نحوه‌ی داوری\n",
        "</font>\n",
        "</h2>\n",
        "\n",
        "<p dir=rtl style=\"direction: rtl; text-align: justify; line-height:200%; font-family:vazir; font-size:medium\">\n",
        "<font face=\"vazir\" size=3>\n",
        "در سامانه‌ی داوری دو دیتافریم <code>df</code> و <code>grouped</code> راه‌حل شما مورد ارزیابی قرار می‌گیرد. بنابراین نیاز است مقادیر گم‌شده را به‌درستی و طبق خواسته‌ی سوال مدیریت کرده باشید و همچنین رابطه‌ی تعداد دوچرخه‌های اجاره‌ای و دمای هوا را به‌درستی محاسبه کرده باشید.\n",
        "</font>\n",
        "</p>"
      ]
    },
    {
      "cell_type": "markdown",
      "metadata": {
        "id": "xy8TS0J2KQio"
      },
      "source": [
        "<h2 align=right style=\"line-height:200%;font-family:vazir;color:#0099cc\">\n",
        "<font face=\"vazir\" color=\"#0099cc\">\n",
        "<b>سلول جواب‌ساز</b>\n",
        "</font>\n",
        "</h2>\n",
        "\n",
        "<p dir=rtl style=\"direction: rtl; text-align: justify; line-height:200%; font-family:vazir; font-size:medium\">\n",
        "<font face=\"vazir\" size=3>\n",
        "    برای ساخته‌شدن فایل <code>result.zip</code> سلول زیر را اجرا کنید. توجه داشته باشید که پیش از اجرای سلول زیر تغییرات اعمال شده در نت‌بوک را ذخیره کرده باشید (<code>ctrl+s</code>) تا در صورت نیاز به پشتیبانی امکان بررسی کد شما وجود داشته باشد.</font>\n",
        "</p>"
      ]
    },
    {
      "cell_type": "code",
      "execution_count": 24,
      "metadata": {
        "id": "YVslEG27Apr4"
      },
      "outputs": [
        {
          "name": "stdout",
          "output_type": "stream",
          "text": [
            "File Paths:\n",
            "['cyclists.ipynb', 'bikes.csv', 'cnt_mean_grouped.csv']\n"
          ]
        }
      ],
      "source": [
        "import zlib\n",
        "import zipfile\n",
        "\n",
        "df.to_csv('bikes.csv', index=True)\n",
        "grouped.to_csv(\"cnt_mean_grouped.csv\", index=True)\n",
        "\n",
        "def compress(file_names):\n",
        "    print(\"File Paths:\")\n",
        "    print(file_names)\n",
        "    compression = zipfile.ZIP_DEFLATED\n",
        "    with zipfile.ZipFile(\"result.zip\", mode=\"w\") as zf:\n",
        "        for file_name in file_names:\n",
        "            zf.write('./' + file_name, file_name, compress_type=compression)\n",
        "\n",
        "file_names = [\"cyclists.ipynb\", \"bikes.csv\", \"cnt_mean_grouped.csv\"]\n",
        "compress(file_names)"
      ]
    },
    {
      "cell_type": "code",
      "execution_count": null,
      "metadata": {},
      "outputs": [],
      "source": []
    }
  ],
  "metadata": {
    "colab": {
      "provenance": []
    },
    "kernelspec": {
      "display_name": "Python 3",
      "language": "python",
      "name": "python3"
    },
    "language_info": {
      "codemirror_mode": {
        "name": "ipython",
        "version": 3
      },
      "file_extension": ".py",
      "mimetype": "text/x-python",
      "name": "python",
      "nbconvert_exporter": "python",
      "pygments_lexer": "ipython3",
      "version": "3.11.9"
    },
    "vscode": {
      "interpreter": {
        "hash": "44e7e1b8fa2096bd5707ed7fd18b1724a2db25f4c565a7673f8b6e7bfc49d25d"
      }
    }
  },
  "nbformat": 4,
  "nbformat_minor": 0
}
